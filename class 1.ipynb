{
 "cells": [
  {
   "cell_type": "code",
   "execution_count": null,
   "id": "4482427f",
   "metadata": {},
   "outputs": [],
   "source": [
    "### Today am going to do class assignment ###"
   ]
  },
  {
   "cell_type": "code",
   "execution_count": null,
   "id": "9c2e6eb5",
   "metadata": {},
   "outputs": [],
   "source": [
    "print(\"hello\")"
   ]
  }
 ],
 "metadata": {
  "language_info": {
   "name": "python"
  }
 },
 "nbformat": 4,
 "nbformat_minor": 5
}
